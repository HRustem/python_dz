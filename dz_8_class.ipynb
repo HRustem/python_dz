{
 "cells": [
  {
   "cell_type": "markdown",
   "metadata": {},
   "source": [
    "Задание №1. Напишите функцию, которая возвращает название валюты (поле 'Name') с максимальным значением курса с помощью сервиса https://www.cbr-xml-daily.ru/daily_json.js"
   ]
  },
  {
   "cell_type": "code",
   "execution_count": 1,
   "metadata": {},
   "outputs": [],
   "source": [
    "import requests"
   ]
  },
  {
   "cell_type": "code",
   "execution_count": 6,
   "metadata": {},
   "outputs": [
    {
     "data": {
      "text/plain": [
       "'Фунт стерлингов Соединенного королевства'"
      ]
     },
     "execution_count": 6,
     "metadata": {},
     "output_type": "execute_result"
    }
   ],
   "source": [
    "def max_rate():\n",
    "    \n",
    "    try:\n",
    "        rates = requests.get('https://www.cbr-xml-daily.ru/daily_json.js').json()['Valute']\n",
    "    except:\n",
    "        print(\"Ошибка при получении данных.\")\n",
    "        return\n",
    "    \n",
    "    y = [rate for rate in rates.values() if rate['CharCode'] != 'XDR']\n",
    "    \n",
    "    return max(y, key = lambda x : x['Value'] / x['Nominal'])['Name']\n",
    "    \n",
    "max_rate()"
   ]
  },
  {
   "cell_type": "markdown",
   "metadata": {},
   "source": [
    "Задание №2. Добавьте в класс Rate параметр diff (со значениями True или False), который в случае значения True в методах eur и usd будет возвращать не курс валюты, а изменение по сравнению в прошлым значением. Считайте, self.diff будет принимать значение True только при возврате значения курса. При отображении всей информации о валюте он не используется."
   ]
  },
  {
   "cell_type": "code",
   "execution_count": 13,
   "metadata": {},
   "outputs": [
    {
     "name": "stdout",
     "output_type": "stream",
     "text": [
      "63.1385 USD\n",
      "0.1026\n",
      "69.5976 EUR\n",
      "0.1825\n"
     ]
    }
   ],
   "source": [
    "class Rate:\n",
    "    def __init__(self, format='value', diff = False):\n",
    "        self.format = format\n",
    "        self.diff = diff\n",
    "    \n",
    "    def exchange_rates(self):\n",
    "        \"\"\"\n",
    "        Возвращает ответ сервиса с информацией о валютах\n",
    "        \n",
    "        \"\"\"\n",
    "        r = requests.get('https://www.cbr-xml-daily.ru/daily_json.js')\n",
    "        return r.json()['Valute']\n",
    "    \n",
    "    def make_format(self, currency):\n",
    "        \"\"\"\n",
    "        Возвращает:\n",
    "        1. Информация о валюте. \n",
    "        2. Информация о курсе на сегодня.\n",
    "        3. Изменение курса за последний день.\n",
    "        \n",
    "        \"\"\"\n",
    "        response = self.exchange_rates()\n",
    "        \n",
    "        if currency in response:\n",
    "            if self.format == 'full':\n",
    "                return response[currency]\n",
    "            \n",
    "            if self.format == 'value':\n",
    "                if not self.diff:\n",
    "                    return response[currency]['Value']\n",
    "                return round(response[currency]['Value'] - response[currency]['Previous'], 4)\n",
    "        \n",
    "        return 'Error'\n",
    "    \n",
    "    def eur(self):\n",
    "        \"\"\"Возвращает курс евро\"\"\"\n",
    "        return self.make_format('EUR')\n",
    "    \n",
    "    def usd(self):\n",
    "        \"\"\"Возвращает курс доллара\"\"\"\n",
    "        return self.make_format('USD')\n",
    "    \n",
    "print(Rate().usd(), 'USD')\n",
    "print(Rate(diff = True).usd())\n",
    "\n",
    "print(Rate().eur(), 'EUR')\n",
    "print(Rate(diff = True).eur())"
   ]
  },
  {
   "cell_type": "markdown",
   "metadata": {},
   "source": [
    "Задание №3. Напишите класс Designer, который учитывает количество международных премий. Подсказки в коде занятия в разделе \"Домашнее задание задача №3\":\n",
    "\n",
    "Напишите класс Designer, который учитывает количество международных премий для дизайнеров (из презентации: \"Повышение на 1 грейд за каждые 7 баллов. Получение международной премии – это +2 балла\"). Считайте, что при выходе на работу сотрудник уже имеет две премии и их количество не меняется со стажем (конечно если хотите это можно вручную менять). Выполните проверку для 20 аккредитаций дизайнера Елены."
   ]
  },
  {
   "cell_type": "code",
   "execution_count": 27,
   "metadata": {},
   "outputs": [],
   "source": [
    "class Employee:\n",
    "    def __init__(self, name, seniority):\n",
    "        self.name = name\n",
    "        self.seniority = seniority\n",
    "        \n",
    "        self.grade = 1\n",
    "    \n",
    "    def grade_up(self):\n",
    "        \"\"\"Повышает уровень сотрудника\"\"\"\n",
    "        self.grade += 1\n",
    "    \n",
    "    def publish_grade(self):\n",
    "        \"\"\"Публикация результатов аккредитации\"\"\"\n",
    "        print(self.name, self.grade)\n",
    "    \n",
    "    def check_if_it_is_time_for_upgrade(self):\n",
    "        pass"
   ]
  },
  {
   "cell_type": "code",
   "execution_count": 28,
   "metadata": {},
   "outputs": [],
   "source": [
    "class Designer(Employee):\n",
    "    def __init__(self, name, seniority, awards):\n",
    "        super().__init__(name, seniority)\n",
    "        self.awards = awards\n",
    "        self.seniority += awards * 2\n",
    "    \n",
    "    def check_if_it_is_time_for_upgrade(self):\n",
    "        self.seniority += 1\n",
    "        if self.seniority % 7 == 0: \n",
    "            self.grade_up()\n",
    "\n",
    "        return self.publish_grade()"
   ]
  },
  {
   "cell_type": "code",
   "execution_count": 29,
   "metadata": {},
   "outputs": [
    {
     "name": "stdout",
     "output_type": "stream",
     "text": [
      "Елена 1\n",
      "Елена 1\n",
      "Елена 2\n",
      "Елена 2\n",
      "Елена 2\n",
      "Елена 2\n",
      "Елена 2\n",
      "Елена 2\n",
      "Елена 2\n",
      "Елена 3\n",
      "Елена 3\n",
      "Елена 3\n",
      "Елена 3\n",
      "Елена 3\n",
      "Елена 3\n",
      "Елена 3\n",
      "Елена 4\n",
      "Елена 4\n",
      "Елена 4\n",
      "Елена 4\n"
     ]
    }
   ],
   "source": [
    "elena = Designer('Елена', seniority=0, awards=2)\n",
    "\n",
    "for i in range(20):\n",
    "    elena.check_if_it_is_time_for_upgrade()"
   ]
  },
  {
   "cell_type": "markdown",
   "metadata": {},
   "source": [
    "С возможностью добавления премий"
   ]
  },
  {
   "cell_type": "code",
   "execution_count": 30,
   "metadata": {},
   "outputs": [],
   "source": [
    "class Designer(Employee):\n",
    "    def __init__(self, name, seniority, awards):\n",
    "        super().__init__(name, seniority)\n",
    "        self.awards = awards\n",
    "        self.seniority += awards * 2\n",
    "    \n",
    "    def __str__(self):\n",
    "        return f'Дизайнер {self.name}: стаж работы {self.seniority} лет, {self.awards} наград(ы), {self.grade} уровень'\n",
    "    \n",
    "    def check_if_it_is_time_for_upgrade(self):\n",
    "        if self.seniority // 7 >= self.grade:  \n",
    "            self.grade_up()\n",
    "        return self.publish_grade()\n",
    "    \n",
    "    def new_award(self):\n",
    "        print('! award !')\n",
    "        self.awards += 1\n",
    "        self.seniority += 2\n",
    "        self.check_if_it_is_time_for_upgrade()\n",
    "        \n",
    "    def pass_accreditation(self):\n",
    "        self.seniority += 1\n",
    "        self.check_if_it_is_time_for_upgrade()"
   ]
  },
  {
   "cell_type": "code",
   "execution_count": 31,
   "metadata": {},
   "outputs": [
    {
     "name": "stdout",
     "output_type": "stream",
     "text": [
      "Елена 1\n",
      "Дизайнер Елена: стаж работы 5 лет, 2 наград(ы), 1 уровень\n",
      "Елена 1\n",
      "! award !\n",
      "Елена 2\n",
      "Дизайнер Елена: стаж работы 8 лет, 3 наград(ы), 2 уровень\n",
      "Елена 2\n",
      "Дизайнер Елена: стаж работы 9 лет, 3 наград(ы), 2 уровень\n",
      "Елена 2\n",
      "Дизайнер Елена: стаж работы 10 лет, 3 наград(ы), 2 уровень\n",
      "Елена 2\n",
      "Дизайнер Елена: стаж работы 11 лет, 3 наград(ы), 2 уровень\n",
      "Елена 2\n",
      "Дизайнер Елена: стаж работы 12 лет, 3 наград(ы), 2 уровень\n",
      "Елена 2\n",
      "Дизайнер Елена: стаж работы 13 лет, 3 наград(ы), 2 уровень\n",
      "Елена 3\n",
      "Дизайнер Елена: стаж работы 14 лет, 3 наград(ы), 3 уровень\n",
      "Елена 3\n",
      "Дизайнер Елена: стаж работы 15 лет, 3 наград(ы), 3 уровень\n",
      "Елена 3\n",
      "Дизайнер Елена: стаж работы 16 лет, 3 наград(ы), 3 уровень\n",
      "Елена 3\n",
      "Дизайнер Елена: стаж работы 17 лет, 3 наград(ы), 3 уровень\n",
      "Елена 3\n",
      "Дизайнер Елена: стаж работы 18 лет, 3 наград(ы), 3 уровень\n",
      "Елена 3\n",
      "Дизайнер Елена: стаж работы 19 лет, 3 наград(ы), 3 уровень\n",
      "Елена 3\n",
      "Дизайнер Елена: стаж работы 20 лет, 3 наград(ы), 3 уровень\n",
      "Елена 4\n",
      "Дизайнер Елена: стаж работы 21 лет, 3 наград(ы), 4 уровень\n",
      "Елена 4\n",
      "Дизайнер Елена: стаж работы 22 лет, 3 наград(ы), 4 уровень\n",
      "Елена 4\n",
      "Дизайнер Елена: стаж работы 23 лет, 3 наград(ы), 4 уровень\n",
      "Елена 4\n",
      "Дизайнер Елена: стаж работы 24 лет, 3 наград(ы), 4 уровень\n",
      "Елена 4\n",
      "Дизайнер Елена: стаж работы 25 лет, 3 наград(ы), 4 уровень\n",
      "Елена 4\n",
      "Дизайнер Елена: стаж работы 26 лет, 3 наград(ы), 4 уровень\n"
     ]
    }
   ],
   "source": [
    "import random \n",
    "\n",
    "elena = Designer('Елена', seniority=0, awards=2)\n",
    "\n",
    "for i in range(20):\n",
    "    elena.pass_accreditation()\n",
    "    if not random.randint(0, 7):\n",
    "        elena.new_award()\n",
    "    print(elena)"
   ]
  }
 ],
 "metadata": {
  "kernelspec": {
   "display_name": "Python 3",
   "language": "python",
   "name": "python3"
  },
  "language_info": {
   "codemirror_mode": {
    "name": "ipython",
    "version": 3
   },
   "file_extension": ".py",
   "mimetype": "text/x-python",
   "name": "python",
   "nbconvert_exporter": "python",
   "pygments_lexer": "ipython3",
   "version": "3.7.3"
  }
 },
 "nbformat": 4,
 "nbformat_minor": 2
}
