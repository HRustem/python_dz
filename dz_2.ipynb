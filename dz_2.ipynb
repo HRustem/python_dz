{
 "cells": [
  {
   "cell_type": "markdown",
   "metadata": {},
   "source": [
    "## Задание 1"
   ]
  },
  {
   "cell_type": "markdown",
   "metadata": {},
   "source": [
    "Мы делаем MVP dating-сервиса, и у нас есть список парней и девушек (их число может варьироваться):"
   ]
  },
  {
   "cell_type": "code",
   "execution_count": 3,
   "metadata": {},
   "outputs": [],
   "source": [
    "boys = ['Peter', 'Alex', 'John', 'Arthur', 'Richard']\n",
    "girls = ['Kate', 'Liza', 'Kira', 'Emma', 'Trisha']"
   ]
  },
  {
   "cell_type": "markdown",
   "metadata": {},
   "source": [
    "Выдвигаем гипотезу: лучшие рекомендации мы получим, если просто отсортируем имена по алфавиту и познакомим людей с одинаковыми индексами после сортировки! \"Познакомить\" пары нам поможет функция zip, а в цикле распакуем zip-объект и выведем информацию в виде:\n",
    "\n",
    "Идеальные пары:  \n",
    "Alex и Emma  \n",
    "Arthur и Kate  \n",
    "John и Kira  \n",
    "Peter и Liza  \n",
    "Richard и Trisha  "
   ]
  },
  {
   "cell_type": "code",
   "execution_count": 3,
   "metadata": {},
   "outputs": [
    {
     "name": "stdout",
     "output_type": "stream",
     "text": [
      "Идеальные пары:\n",
      "Alex и Emma\n",
      "Arthur и Kate\n",
      "John и Kira\n",
      "Peter и Liza\n",
      "Richard и Trisha\n"
     ]
    }
   ],
   "source": [
    "boys.sort()\n",
    "girls.sort()\n",
    "salaries_by_names = list(zip(boys, girls))\n",
    "print ('Идеальные пары:')\n",
    "for part in salaries_by_names:\n",
    "    #print (part)\n",
    "    print (part[0], 'и', part[1])"
   ]
  },
  {
   "cell_type": "markdown",
   "metadata": {},
   "source": [
    "## Задание 2"
   ]
  },
  {
   "cell_type": "markdown",
   "metadata": {},
   "source": [
    "У нас есть список, содержащий информацию о среднедневной температуре в Фаренгейтах за недельный период по странам.\n",
    "Необходимо написать код, который рассчитает среднюю температуру за неделю в Цельсиях для каждой страны."
   ]
  },
  {
   "cell_type": "code",
   "execution_count": 42,
   "metadata": {},
   "outputs": [],
   "source": [
    "countries_temperature = [\n",
    " ['Thailand', [75.2, 77, 78.8, 73.4, 68, 75.2, 77]],\n",
    " ['Germany', [57.2, 55.4, 59, 59, 53.6, 55.4, 57.2]],\n",
    " ['Russia', [35.6, 37.4, 39.2, 41, 42.8, 39.2, 35.6]],\n",
    " ['Poland', [50, 50, 53.6, 57.2, 55.4, 55.4, 51.8]],\n",
    "]"
   ]
  },
  {
   "cell_type": "code",
   "execution_count": 43,
   "metadata": {},
   "outputs": [
    {
     "name": "stdout",
     "output_type": "stream",
     "text": [
      "Средняя температу в Thailand равна 23.86\n",
      "Средняя температу в Germany равна 13.71\n",
      "Средняя температу в Russia равна 3.71\n",
      "Средняя температу в Poland равна 11.86\n"
     ]
    }
   ],
   "source": [
    "for country in countries_temperature:\n",
    "    sum_temp = 0\n",
    "        #print('Внешний цикл со списком, где страна и температуры ', country)\n",
    "    for temperature in country [1]:\n",
    "            #print('Внутренний цикл с температурами ', temperature)\n",
    "        sum_temp += (temperature - 32) * 5/9\n",
    "        #print('Внешний цикл с накопленными температурами в Цельсиях', sum_temp)\n",
    "    print('Средняя температу в', country[0], 'равна', round(sum_temp/len(country[1]), 2))"
   ]
  },
  {
   "cell_type": "markdown",
   "metadata": {},
   "source": [
    "## Задание 3"
   ]
  },
  {
   "cell_type": "markdown",
   "metadata": {},
   "source": [
    "Дан поток логов по количеству просмотренных страниц для каждого пользователя. Список отсортирован по ID пользователя. Вам необходимо написать алгоритм, который считает среднее значение просмотров на пользователя. \n",
    "Т. е. надо посчитать отношение суммы всех просмотров к количеству уникальных пользователей."
   ]
  },
  {
   "cell_type": "code",
   "execution_count": 2,
   "metadata": {},
   "outputs": [
    {
     "name": "stdout",
     "output_type": "stream",
     "text": [
      "среднее значение просмотров на пользователя: 23.25\n"
     ]
    }
   ],
   "source": [
    "stream = [\n",
    "    '2018-01-01,user1,3',\n",
    "    '2018-01-07,user1,4',\n",
    "    '2018-03-29,user1,1',\n",
    "    '2018-04-04,user1,13',\n",
    "    '2018-01-05,user2,7',\n",
    "    '2018-06-14,user3,4',\n",
    "    '2018-07-02,user3,10',\n",
    "    '2018-03-21,user4,19',\n",
    "    '2018-03-22,user4,4',\n",
    "    '2018-04-22,user4,8',\n",
    "    '2018-05-03,user4,9',\n",
    "    '2018-05-11,user4,11',\n",
    "]\n",
    "\n",
    "users = list()\n",
    "total_views = 0\n",
    "\n",
    "for log in stream:\n",
    "    if log.split(',')[1] not in users:\n",
    "        users.append(log.split(',')[1])\n",
    "    total_views+=int(log.split(',')[2])\n",
    "    \n",
    "print(f'среднее значение просмотров на пользователя: {total_views/len(users)}')"
   ]
  },
  {
   "cell_type": "markdown",
   "metadata": {},
   "source": [
    "## Задание 4"
   ]
  },
  {
   "cell_type": "markdown",
   "metadata": {},
   "source": [
    "Дана статистика рекламных кампаний по дням. Напишите алгоритм, который по паре дата-кампания ищет значение численного столбца. \n",
    "Т. е. для даты '2018-01-01' и 'google' нужно получить число 25. \n",
    "Считайте, что все комбинации дата-кампания уникальны."
   ]
  },
  {
   "cell_type": "code",
   "execution_count": 4,
   "metadata": {},
   "outputs": [],
   "source": [
    "stats = [\n",
    "    ['2018-01-01', 'google', 25],\n",
    "    ['2018-01-01', 'yandex', 65],\n",
    "    ['2018-01-01', 'market', 89],\n",
    "    ['2018-01-02', 'google', 574],\n",
    "    ['2018-01-02', 'yandex', 249],\n",
    "    ['2018-01-02', 'market', 994],\n",
    "    ['2018-01-03', 'yandex', 1327],\n",
    "    ['2018-01-03', 'market', 1764],\n",
    "]"
   ]
  },
  {
   "cell_type": "code",
   "execution_count": 5,
   "metadata": {},
   "outputs": [
    {
     "name": "stdout",
     "output_type": "stream",
     "text": [
      "Введите дату: 2018-01-01\n",
      "Введите канал: google\n",
      "25\n"
     ]
    }
   ],
   "source": [
    "date = input('Введите дату: ') # 2018-01-01\n",
    "ads = input('Введите канал: ') # google\n",
    "\n",
    "for ppc in stats:\n",
    "    if ppc[0] == date and ppc[1] == ads:\n",
    "        print(ppc[2])"
   ]
  }
 ],
 "metadata": {
  "kernelspec": {
   "display_name": "Python 3",
   "language": "python",
   "name": "python3"
  },
  "language_info": {
   "codemirror_mode": {
    "name": "ipython",
    "version": 3
   },
   "file_extension": ".py",
   "mimetype": "text/x-python",
   "name": "python",
   "nbconvert_exporter": "python",
   "pygments_lexer": "ipython3",
   "version": "3.7.3"
  }
 },
 "nbformat": 4,
 "nbformat_minor": 2
}
