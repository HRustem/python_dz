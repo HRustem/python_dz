{
 "cells": [
  {
   "cell_type": "markdown",
   "metadata": {},
   "source": [
    "# Домашнее задание\n",
    "1. Переведите содержимое файла purchase_log.txt в словарь purchases вида:\n",
    "```python\n",
    "{'1840e0b9d4': 'Продукты', ...}\n",
    "```\n",
    "2. Для каждого user_id в файле visit_log.csv добавьте третий столбец с категорией покупки (если покупка была).\n",
    "3. Запишите в файл funnel.csv визиты из файла visit_log.csv, в которых были покупки с указанием категории."
   ]
  },
  {
   "cell_type": "code",
   "execution_count": 1,
   "metadata": {},
   "outputs": [
    {
     "name": "stdout",
     "output_type": "stream",
     "text": [
      "кол-во покупателей: 99999\n",
      "кол-во посетителей: 199999\n",
      "кол-во посетителей, купивших товар: 13798\n",
      "Wall time: 478 ms\n"
     ]
    }
   ],
   "source": [
    "%%time\n",
    "\n",
    "import json\n",
    "purchases = dict()\n",
    "i = 0\n",
    "with open('purchase_log.txt', 'r', encoding='utf-8') as f:\n",
    "    next(f)\n",
    "    for line in f:\n",
    "        line = line.strip()\n",
    "        dict_line = json.loads(line)\n",
    "        purchases[dict_line['user_id']] = dict_line['category']\n",
    "        i += 1 \n",
    "print(f'кол-во покупателей: {i}')\n",
    "\n",
    "\n",
    "visit_purchases = list()\n",
    "j = 0\n",
    "k = 0\n",
    "with open('visit_log.csv', 'r') as f:\n",
    "    with open('funnel.csv', 'w') as f_new:\n",
    "        next(f)\n",
    "        f_new.write('user_id,source,category\\n')\n",
    "        for line in f:\n",
    "            list_line = line.strip().split(',')\n",
    "            if purchases.get(list_line[0]) != None:\n",
    "                list_line.append(purchases.get(list_line[0]))\n",
    "                visit_purchases.append(list_line)\n",
    "                str_line = ','.join(list_line) + '\\n'\n",
    "                f_new.write(str_line)\n",
    "                k += 1\n",
    "            j += 1\n",
    "print(f'кол-во посетителей: {j}')\n",
    "print(f'кол-во посетителей, купивших товар: {k}')"
   ]
  }
 ],
 "metadata": {
  "kernelspec": {
   "display_name": "Python 3",
   "language": "python",
   "name": "python3"
  },
  "language_info": {
   "codemirror_mode": {
    "name": "ipython",
    "version": 3
   },
   "file_extension": ".py",
   "mimetype": "text/x-python",
   "name": "python",
   "nbconvert_exporter": "python",
   "pygments_lexer": "ipython3",
   "version": "3.7.3"
  }
 },
 "nbformat": 4,
 "nbformat_minor": 2
}
