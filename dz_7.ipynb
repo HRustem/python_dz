{
 "cells": [
  {
   "cell_type": "markdown",
   "metadata": {},
   "source": [
    "Задание №1. Напишите функцию date_range, которая возвращает список дней между датами start_date и end_date. Даты должны вводиться в формате YYYY-MM-DD."
   ]
  },
  {
   "cell_type": "code",
   "execution_count": 8,
   "metadata": {},
   "outputs": [
    {
     "data": {
      "text/plain": [
       "['30.06.2020']"
      ]
     },
     "execution_count": 8,
     "metadata": {},
     "output_type": "execute_result"
    }
   ],
   "source": [
    "from datetime import datetime\n",
    "from datetime import timedelta\n",
    "            \n",
    "def date_range(start_date, end_date):\n",
    "    start_date = datetime.strptime(start_date, '%Y-%m-%d')\n",
    "    end_date = datetime.strptime(end_date, '%Y-%m-%d')\n",
    "    list_days=[]\n",
    "    while start_date < end_date:\n",
    "        list_days.append(start_date.strftime('%d.%m.%Y'))\n",
    "        start_date += timedelta(days = 1)\n",
    "    return list_days\n",
    "date_range ('2020-06-30', '2020-07-01')"
   ]
  },
  {
   "cell_type": "markdown",
   "metadata": {},
   "source": [
    "Задание №2. Дополните функцию из первого задания проверкой на корректность дат. В случае неверного формата или если start_date > end_date должен возвращаться пустой список."
   ]
  },
  {
   "cell_type": "code",
   "execution_count": 10,
   "metadata": {},
   "outputs": [
    {
     "data": {
      "text/plain": [
       "['10.02.2020',\n",
       " '11.02.2020',\n",
       " '12.02.2020',\n",
       " '13.02.2020',\n",
       " '14.02.2020',\n",
       " '15.02.2020',\n",
       " '16.02.2020',\n",
       " '17.02.2020',\n",
       " '18.02.2020',\n",
       " '19.02.2020']"
      ]
     },
     "execution_count": 10,
     "metadata": {},
     "output_type": "execute_result"
    }
   ],
   "source": [
    "from datetime import datetime\n",
    "from datetime import timedelta\n",
    "\n",
    "def date_range(start_date, end_date):\n",
    "    try:\n",
    "        start_date = datetime.strptime(start_date, '%Y-%m-%d')\n",
    "        end_date = datetime.strptime(end_date, '%Y-%m-%d')\n",
    "        list_days=[]\n",
    "        if start_date <= end_date:\n",
    "            while start_date < end_date:\n",
    "                list_days.append(start_date.strftime('%d.%m.%Y'))\n",
    "                start_date += timedelta(days = 1)\n",
    "        else:\n",
    "            print('Неверный период')\n",
    "            list_days =[]\n",
    "    except ValueError:\n",
    "        print('Неверный формат')\n",
    "        list_days =[]\n",
    "    return list_days\n",
    "\n",
    "date_range ('2020-02-10', '2020-02-20')"
   ]
  },
  {
   "cell_type": "markdown",
   "metadata": {},
   "source": [
    "Задание №3. Дан поток дат в формате YYYY-MM-DD, в которых встречаются некорректные значения: stream = ['2018-04-02', '2018-02-29', '2018-19-02'] Напишите функцию, которая проверяет эти даты на корректность, т.е. для каждой даты возвращает True (дата корректна) или False (некорректная дата)."
   ]
  },
  {
   "cell_type": "code",
   "execution_count": 17,
   "metadata": {},
   "outputs": [
    {
     "data": {
      "text/plain": [
       "{'2018-04-02': 'True',\n",
       " '2018-02-29': 'False',\n",
       " '2018-19-02': 'False',\n",
       " '2018-08-02': 'True',\n",
       " '2020-02-29': 'True',\n",
       " '2018-0-02': 'False',\n",
       " '3333-33-33': 'False'}"
      ]
     },
     "execution_count": 17,
     "metadata": {},
     "output_type": "execute_result"
    }
   ],
   "source": [
    "from datetime import datetime\n",
    "\n",
    "stream = ['2018-04-02', '2018-02-29', '2018-19-02','2018-08-02', '2020-02-29', '2018-0-02','3333-33-33']\n",
    "\n",
    "def datetest(x):\n",
    "    verification={}\n",
    "    for item in x:\n",
    "        try:\n",
    "            i = datetime.strptime(item, '%Y-%m-%d')\n",
    "            verification[item]= 'True'\n",
    "        except:\n",
    "            verification[item]= 'False'\n",
    "    return verification\n",
    "\n",
    "datetest(stream)"
   ]
  },
  {
   "cell_type": "markdown",
   "metadata": {},
   "source": [
    "Задание №4. (бонусное) Ваш коллега прислал код функции:\n",
    "\n",
    "DEFAULT_USER_COUNT = 3\n",
    "\n",
    "def delete_and_return_last_user(region, default_list=['A100', 'A101', 'A102']):\n",
    "    \"\"\"\n",
    "    Удаляет из списка default_list последнего пользователя \n",
    "    и возвращает ID нового последнего пользователя.\n",
    "    \"\"\"\n",
    "    element_to_delete = default_list[-1]\n",
    "    default_list.remove(element_to_delete)\n",
    "    \n",
    "    return default_list[DEFAULT_USER_COUNT-2]\n",
    "\n",
    "При однократном вызове этой функции все работает корректно:\n",
    "delete_and_return_last_user(1)\n",
    "'A101'\n",
    "\n",
    "Однако, при повторном вызове получается ошибка IndexError: list index out of range.\n",
    "\n",
    "Задание:\n",
    "Что значит ошибка list index out of range?\n",
    "Почему при первом запуске функция работает корректно, а при втором - нет?"
   ]
  },
  {
   "cell_type": "code",
   "execution_count": 45,
   "metadata": {},
   "outputs": [
    {
     "name": "stdout",
     "output_type": "stream",
     "text": [
      "Список до удаления  ['A100', 'A101', 'A102']\n",
      "Список до удаления  ['A100', 'A101']\n",
      "None\n"
     ]
    },
    {
     "name": "stderr",
     "output_type": "stream",
     "text": [
      "Traceback (most recent call last):\n",
      "  File \"<ipython-input-45-87c513622fbb>\", line 13, in delete_and_return_last_user\n",
      "    return default_list[DEFAULT_USER_COUNT-2]\n",
      "IndexError: list index out of range\n"
     ]
    }
   ],
   "source": [
    "import traceback\n",
    "\n",
    "DEFAULT_USER_COUNT = 3\n",
    "\n",
    "def delete_and_return_last_user(region, default_list=['A100', 'A101', 'A102']):\n",
    "    \"\"\" Удаляет из списка default_list последнего пользователя и возвращает ID нового последнего пользователя. \"\"\" \n",
    "    try:        \n",
    "        print('Список до удаления ', default_list)\n",
    "\n",
    "        element_to_delete = default_list[-1]\n",
    "        default_list.remove(element_to_delete)\n",
    "        \n",
    "        return default_list[DEFAULT_USER_COUNT-2]\n",
    "    except:\n",
    "        print(traceback.print_exc())\n",
    "\n",
    "delete_and_return_last_user(1)\n",
    "delete_and_return_last_user(1)"
   ]
  },
  {
   "cell_type": "markdown",
   "metadata": {},
   "source": [
    "Что значит ошибка list index out of range?\n",
    "\n",
    "list index out of range означает, что мы пытаемся обратиться к элементу списка с несуществующим индексом.\n",
    "\n",
    "Почему при первом запуске функция работает корректно, а при втором - нет?\n",
    "\n",
    "После первого запуска от списка из 3-х элементов остается список всего из 2-х элементов, для которого функция не работает."
   ]
  }
 ],
 "metadata": {
  "kernelspec": {
   "display_name": "Python 3",
   "language": "python",
   "name": "python3"
  },
  "language_info": {
   "codemirror_mode": {
    "name": "ipython",
    "version": 3
   },
   "file_extension": ".py",
   "mimetype": "text/x-python",
   "name": "python",
   "nbconvert_exporter": "python",
   "pygments_lexer": "ipython3",
   "version": "3.7.3"
  }
 },
 "nbformat": 4,
 "nbformat_minor": 2
}
