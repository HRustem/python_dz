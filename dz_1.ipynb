{
 "cells": [
  {
   "cell_type": "markdown",
   "metadata": {},
   "source": [
    "**Задание 1**. Даны 2 строки: *long_phrase* и *short_phrase*. \n",
    "Напишите код, который проверяет действительно ли длинная фраза *long_phrase* длиннее короткой *short_phrase*. И выводит *True* или *False* в зависимости от результата сравнения."
   ]
  },
  {
   "cell_type": "code",
   "execution_count": 1,
   "metadata": {},
   "outputs": [
    {
     "data": {
      "text/plain": [
       "False"
      ]
     },
     "execution_count": 1,
     "metadata": {},
     "output_type": "execute_result"
    }
   ],
   "source": [
    "long_phrase = 'Насколько проще было бы писать программы, если бы не заказчики'\n",
    "short_phrase = '640Кб должно хватить для любых задач. Билл Гейтс (по легенде)'\n",
    "len('long_phrase') > len('short_phrase')"
   ]
  },
  {
   "cell_type": "markdown",
   "metadata": {},
   "source": [
    "**Задание 2**. Дано значение объема файла в байтах. Напишите перевод этого значения в мегабайты в формате: \"*Объем файла равен 213.68Mb*\""
   ]
  },
  {
   "cell_type": "code",
   "execution_count": 2,
   "metadata": {},
   "outputs": [
    {
     "name": "stdout",
     "output_type": "stream",
     "text": [
      "Введите объем файла в байтах: 224059719\n",
      "Объем файла:  213.68 Mb\n"
     ]
    }
   ],
   "source": [
    "nresult = int(input('Введите объем файла в байтах: ')) #224059719\n",
    "cons = 1024\n",
    "numerical_result = (nresult / cons) / cons\n",
    "print('Объем файла: ', round(numerical_result,2),'Mb')"
   ]
  },
  {
   "cell_type": "markdown",
   "metadata": {},
   "source": [
    "**Задание 3**. Разработать приложение для определения знака зодиака по дате рождения. Пример:\n",
    "\n",
    "Введите месяц: март\n",
    "\n",
    "Введите число: 6\n",
    "\n",
    "Вывод:\n",
    "Рыбы"
   ]
  },
  {
   "cell_type": "code",
   "execution_count": 3,
   "metadata": {},
   "outputs": [
    {
     "name": "stdout",
     "output_type": "stream",
     "text": [
      "Введите месяц: Октябрь\n",
      "Введите дату: 12\n",
      "Вывод: Весы\n",
      "Конец программы\n"
     ]
    }
   ],
   "source": [
    "month = input('Введите месяц: ')\n",
    "date = int(input('Введите дату: '))\n",
    "\n",
    "if month=='Январь' and date>=20 or month=='Февраль' and date<=18:\n",
    "    print('Вывод: Водолей')\n",
    "elif month=='Февраль' and date>=19 or month=='Март' and date<=20:\n",
    "    print('Вывод: Рыбы')\n",
    "elif month=='Март' and date>=21 or month=='Апрель' and date<=19:\n",
    "    print('Вывод: Овен')\n",
    "elif month=='Апрель' and date>=20 or month=='Май' and date<=20:\n",
    "    print('Вывод: Телец')\n",
    "elif month=='Май' and date>=21 or month=='Июнь' and date<=21:\n",
    "    print('Вывод: Близнецы')\n",
    "elif month=='Июнь' and date>=22 or month=='Июль' and date<=22:\n",
    "    print('Вывод: Рак')\n",
    "elif month=='Июль' and date>=23 or month=='Август' and date<=22:\n",
    "    print('Вывод: Лев')\n",
    "elif month=='Август' and date>=23 or month=='Сентябрь' and date<=22:\n",
    "    print('Вывод: Дева')\n",
    "elif month=='Сентябрь' and date>=23 or month=='Октябрь' and date<=22:\n",
    "    print('Вывод: Весы')\n",
    "elif month=='Октябрь' and date>=23 or month=='Ноябрь' and date<=21:\n",
    "    print('Вывод: Скорпион')\n",
    "elif month=='Ноябрь' and date>=22 or month=='Декабрь' and date<=21:\n",
    "    print('Вывод: Стрелец')\n",
    "elif month=='Декабрь' and date>=22 or month=='Январь' and date<=19:\n",
    "    print('Вывод: Козерог')\n",
    "else:\n",
    "    print('Ошибка')\n",
    "print('Конец программы')"
   ]
  },
  {
   "cell_type": "markdown",
   "metadata": {},
   "source": [
    "**Задание 4**. Нужно разработать приложение для финансового планирования.\n",
    "Приложение учитывает сколько уходит на ипотеку, \"на жизнь\" и сколько нужно отложить на пенсию.\n",
    "Пользователь вводит:\n",
    "- заработанную плату в месяц.\n",
    "- сколько процентов от ЗП уходит на ипотеку.\n",
    "- сколько процентов от ЗП уходит \"на жизнь\".\n",
    "- сколько раз приходит премия в год.\n",
    "\n",
    "Остальная часть заработанной платы откладывается на пенсию.\n",
    "\n",
    "Также пользователю приходит премия в размере зарплаты, от которой половина уходит на отпуск, а вторая половина откладывается.\n",
    "\n",
    "Программа должна учитывать сколько премий было в год.\n",
    "\n",
    "Нужно вывести сколько денег тратит пользователь на ипотеку и сколько он накопит за год.\n",
    "\n",
    "Пример:\n",
    "\n",
    "Введите заработанную плату в месяц: 100000\n",
    "\n",
    "Введите сколько процентов уходит на ипотеку: 30\n",
    "\n",
    "Введите сколько процентов уходит на жизнь: 50\n",
    "\n",
    "Введите количество премий за год: 2\n",
    "\n",
    "Вывод:\n",
    "На ипотеку было потрачено: 360000 рублей\n",
    "Было накоплено: 340000 рублей"
   ]
  },
  {
   "cell_type": "code",
   "execution_count": 4,
   "metadata": {},
   "outputs": [
    {
     "name": "stdout",
     "output_type": "stream",
     "text": [
      "Введите заработанную плату в месяц: 10000\n",
      "Введите сколько процентов уходит на ипотеку: 30\n",
      "Введите сколько процентов уходит на жизнь: 50\n",
      "Введите количество премий за год: 2\n",
      "На ипотеку было потрачено:  36000.0 рублей в год\n",
      "На жизнь было потрачено:  60000.0 рублей в год\n",
      "Было накоплено:  34000.0 рублей в год\n"
     ]
    }
   ],
   "source": [
    "zarplata = int(input('Введите заработанную плату в месяц: '))\n",
    "ipoteka = int(input('Введите сколько процентов уходит на ипотеку: '))\n",
    "existence = int(input('Введите сколько процентов уходит на жизнь: '))\n",
    "premia = int(input('Введите количество премий за год: '))\n",
    "year = 12\n",
    "ip = ((zarplata * ipoteka) / 100) * year\n",
    "jz = ((zarplata * existence) / 100) * year\n",
    "pr = (zarplata * premia) / 2 + ((zarplata * year) - (ip + jz))\n",
    "print('На ипотеку было потрачено: ', ip, 'рублей в год')\n",
    "print('На жизнь было потрачено: ', jz, 'рублей в год')\n",
    "print('Было накоплено: ', pr, 'рублей в год')"
   ]
  }
 ],
 "metadata": {
  "kernelspec": {
   "display_name": "Python 3",
   "language": "python",
   "name": "python3"
  },
  "language_info": {
   "codemirror_mode": {
    "name": "ipython",
    "version": 3
   },
   "file_extension": ".py",
   "mimetype": "text/x-python",
   "name": "python",
   "nbconvert_exporter": "python",
   "pygments_lexer": "ipython3",
   "version": "3.7.3"
  }
 },
 "nbformat": 4,
 "nbformat_minor": 2
}
