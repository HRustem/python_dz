{
 "cells": [
  {
   "cell_type": "markdown",
   "metadata": {},
   "source": [
    "## Задание 1"
   ]
  },
  {
   "cell_type": "markdown",
   "metadata": {},
   "source": [
    "Напишите функцию, которая принимает на вход строку и проверяет является ли она валидным транспортным номером. Если да, то функция должна возвращать отдельно номер и регион."
   ]
  },
  {
   "cell_type": "code",
   "execution_count": 11,
   "metadata": {},
   "outputs": [
    {
     "name": "stdout",
     "output_type": "stream",
     "text": [
      "{'номер': 'О945РР', 'регион': '116'}\n"
     ]
    }
   ],
   "source": [
    "def validation(avto):\n",
    "    import re\n",
    "    pattern = '([АВЕКМНОРСТУХ]{1}\\d{3}[АВЕКМНОРСТУХ]{2})(\\d{2,3})'\n",
    "    result = re.match(pattern, avto)\n",
    "    if result == None:\n",
    "        print(f'Номер {avto} не верный!')\n",
    "    else:\n",
    "        list_result = dict()\n",
    "        list_result['номер'] = result.group(1)\n",
    "        list_result['регион'] = result.group(2)\n",
    "        return list_result\n",
    "avto_number = 'О945РР116'\n",
    "print(validation(avto_number))"
   ]
  },
  {
   "cell_type": "markdown",
   "metadata": {},
   "source": [
    "## Задание 2"
   ]
  },
  {
   "cell_type": "markdown",
   "metadata": {},
   "source": [
    "Напишите функцию, которая проверяет e-mail адрес на валидность по стандарту RFC822: http://www.w3.org/Protocols/rfc822/. Для этого постарайтесь написать (в крайнем случае найти) самый полный шаблон для проверки e-mail адресов через регулярное выражение. Разберитесь и напишите примеры, какие ваш шаблон может не охватить."
   ]
  },
  {
   "cell_type": "code",
   "execution_count": 12,
   "metadata": {},
   "outputs": [
    {
     "name": "stdout",
     "output_type": "stream",
     "text": [
      "email: rustem.h@bars-electro.ru Верно!\n"
     ]
    }
   ],
   "source": [
    "def validation(email_address):\n",
    "    import re\n",
    "    message = ''\n",
    "    pattern = '([a-z0-9_-]+\\.)*[a-z0-9_-]+@[a-z0-9-]+(\\.[a-z0-9-]+)*\\.[a-z]{2,6}'\n",
    "    result = re.match(pattern, email_address)\n",
    "    if result == None:\n",
    "        message = f'email: {email_address} Не верно!'\n",
    "    else:\n",
    "        message = f'email: {email_address} Верно!'\n",
    "    return message\n",
    "email = 'rustem.h@bars-electro.ru'\n",
    "print(validation(email))"
   ]
  },
  {
   "cell_type": "markdown",
   "metadata": {},
   "source": [
    "## Задание 3\n",
    "Напишите функцию, которая будет удалять все последовательные повторы слов из заданной строки."
   ]
  },
  {
   "cell_type": "code",
   "execution_count": 23,
   "metadata": {},
   "outputs": [
    {
     "name": "stdout",
     "output_type": "stream",
     "text": [
      "из текста удалены все повторы слов: \n",
      "удалить все повторы слов\n"
     ]
    }
   ],
   "source": [
    "def repeat(word):\n",
    "    import re\n",
    "    message = ''\n",
    "    outcome = ''\n",
    "    result = re.findall('[\\w]+', word)\n",
    "    if result == None:\n",
    "        message = 'нет повторов слов!'\n",
    "    else:\n",
    "        list_one = list()\n",
    "        [list_one.append(el) for el in result if el not in list_one]\n",
    "        for x in list_one:\n",
    "            outcome += ' ' + x\n",
    "        outcome = '\\n' + outcome.strip()\n",
    "        message = f'из текста удалены все повторы слов: {outcome}'\n",
    "    return message\n",
    "\n",
    "text = 'удалить удалить удалить все повторы слов слов'\n",
    "print(repeat(text))"
   ]
  },
  {
   "cell_type": "markdown",
   "metadata": {},
   "source": [
    "## Задание 4\n",
    "Напишите функцию, которая будет проверять номер сотового телефона на валидность, если он валиден, то переводить его в формат:   \n",
    "+7(xxx)-xxx-xx-xx  \n",
    "Постарайтесь предусмотреть как можно больше адекватных форматов изначального ввода номера.\n",
    "Примеры правильных и неправильных форматов:\n",
    "- +7 955 555-55-55;\n",
    "- 955555555;\n",
    "- 8(955)555-55-55;\n",
    "- +7 955 555 55 55;\n",
    "- 7(955) 555-55-55;\n",
    "- +7 955+555+55+55."
   ]
  },
  {
   "cell_type": "code",
   "execution_count": 17,
   "metadata": {},
   "outputs": [
    {
     "name": "stdout",
     "output_type": "stream",
     "text": [
      "номер телефона: 7(955)555-55-55 верный!\n"
     ]
    }
   ],
   "source": [
    "def validation(mobil):\n",
    "    import re\n",
    "    message = ''\n",
    "    pattern = '(7|8|\\+8|\\+7)?[\\(\\- ]?(\\d{3})[\\)]?[\\- ]?(\\d{3})[\\- ]?(\\d{2})[\\- ]?(\\d{2})'\n",
    "    result = re.match(pattern, mobil)\n",
    "    if result == None:\n",
    "        message = f'Номер телефона: {mobil} не прошел проверку!'\n",
    "    else:\n",
    "        result = re.sub(pattern, r'+7(\\2)-\\3-\\4-\\5', mobil)\n",
    "        message = f'Номер телефона: {mobil} верный!'\n",
    "    return message\n",
    "mob_number = '7(955)555-55-55'\n",
    "print(validation(mob_number))"
   ]
  }
 ],
 "metadata": {
  "kernelspec": {
   "display_name": "Python 3",
   "language": "python",
   "name": "python3"
  },
  "language_info": {
   "codemirror_mode": {
    "name": "ipython",
    "version": 3
   },
   "file_extension": ".py",
   "mimetype": "text/x-python",
   "name": "python",
   "nbconvert_exporter": "python",
   "pygments_lexer": "ipython3",
   "version": "3.7.3"
  }
 },
 "nbformat": 4,
 "nbformat_minor": 2
}
